{
 "cells": [
  {
   "cell_type": "code",
   "execution_count": 18,
   "id": "2fe834f9",
   "metadata": {},
   "outputs": [],
   "source": [
    "import csv\n",
    "import operator\n",
    "import copy\n",
    "from token import EQUAL\n",
    "from builtins import sorted"
   ]
  },
  {
   "cell_type": "code",
   "execution_count": 19,
   "id": "3033868f",
   "metadata": {},
   "outputs": [],
   "source": [
    "# opening csv files\n",
    "reader = csv.reader(open(r'C:\\Users\\Roopa\\Documents\\MSBA 1st sem\\BUAN 6380 data viz judd bradbury\\assign 4\\Largest_Cities_CSV.CSV'), delimiter=\",\")"
   ]
  },
  {
   "cell_type": "code",
   "execution_count": 20,
   "id": "1c7f3cd1",
   "metadata": {},
   "outputs": [],
   "source": [
    "# variable initialization\n",
    "u = 'State - Place'\n",
    "x = 'Year'\n",
    "y = 'Population'\n",
    "z = 'RoopaliReddy - Rank'\n",
    "rows_so_far = 0\n",
    "c = 0"
   ]
  },
  {
   "cell_type": "code",
   "execution_count": 21,
   "id": "2de73327",
   "metadata": {},
   "outputs": [],
   "source": [
    "# initializing 2D list\n",
    "pool = []\n",
    "pool.append([])"
   ]
  },
  {
   "cell_type": "code",
   "execution_count": 22,
   "id": "5e6e149b",
   "metadata": {},
   "outputs": [],
   "source": [
    "# looping through csv and adding to list\n",
    "for row in reader:\n",
    "    if rows_so_far == 0:\n",
    "        rows_so_far +=1\n",
    "        header = row\n",
    "        \n",
    "        # populating header\n",
    "        for j in range(0,4):\n",
    "            if j == 0:\n",
    "                pool.append([])\n",
    "                pool[0].append(u)\n",
    "            if j == 1:\n",
    "                pool[0].append(x)\n",
    "            if j == 2:\n",
    "                pool[0].append(y)\n",
    "            if j == 3:\n",
    "                pool[0].append(z)\n",
    "    \n",
    "    else:\n",
    "        # populate items: add population a city for each city\n",
    "        for i in range(len(row)-2):\n",
    "            a=len(pool)\n",
    "            if not row==[]:\n",
    "                if i==0 or i>=1:\n",
    "                    item=copy.deepcopy(row)\n",
    "                    r=copy.deepcopy(row)\n",
    "                    \n",
    "                    # populate the values for a column\n",
    "                    for j in range(0,4):\n",
    "                        if item[i+2] != '':\n",
    "                            if j==0:\n",
    "                                # join state and city val\n",
    "                                r[0]=item[j+1]+' - '+item[j]\n",
    "                                pool.append([])\n",
    "                                pool[a-1].append(r[0])\n",
    "                            # populate year val    \n",
    "                            if j ==1:\n",
    "                                pool[a-1].append(int(header[i+2]))\n",
    "                            # populate population val, if nil dont add to record    \n",
    "                            if j==2:\n",
    "                                if item[i+2]=='':\n",
    "                                    pool[a-1].append(int(0))\n",
    "                                else:\n",
    "                                    pool[a-1].append(int(item[i+2]))\n",
    "                            # initialize rank to 0        \n",
    "                            if j==3:\n",
    "                                    pool[a-1].append(int(0))\n",
    "                                    \n",
    "        rows_so_far +=1"
   ]
  },
  {
   "cell_type": "code",
   "execution_count": 23,
   "id": "a36b8dc7",
   "metadata": {},
   "outputs": [],
   "source": [
    "# length of list\n",
    "a = len(pool)"
   ]
  },
  {
   "cell_type": "code",
   "execution_count": 24,
   "id": "2f8c95fe",
   "metadata": {},
   "outputs": [],
   "source": [
    "# populate list w/ all values except header as cant sort w/ headers\n",
    "list = pool[1:a-1]"
   ]
  },
  {
   "cell_type": "code",
   "execution_count": 25,
   "id": "576fcf5b",
   "metadata": {},
   "outputs": [],
   "source": [
    "# sort list by year and population\n",
    "list.sort(key = lambda b: (b[1], b[2]), reverse = True)"
   ]
  },
  {
   "cell_type": "code",
   "execution_count": 26,
   "id": "89e73fd9",
   "metadata": {},
   "outputs": [],
   "source": [
    "# add header to list\n",
    "list1=[]\n",
    "list1.append([])\n",
    "list1[0]=pool[0]\n",
    "list1[1:a-1]=list[0:a-2]"
   ]
  },
  {
   "cell_type": "code",
   "execution_count": 27,
   "id": "4c2247f1",
   "metadata": {},
   "outputs": [],
   "source": [
    "# list to csv file\n",
    "mycsv = csv.writer(open(r'C:\\Users\\Roopa\\Documents\\MSBA 1st sem\\BUAN 6380 data viz judd bradbury\\assign 4\\RoopaliReddy.csv', 'w', newline=''))\n",
    "\n",
    "for row in list1:\n",
    "    # get row index\n",
    "    e = list1.index(row)\n",
    "    # compare yrs val of curr w/ yrs val of prev, if same see rank\n",
    "    # if diff assign rank as one\n",
    "    if row[1] != c and e!=0:\n",
    "        v=1\n",
    "        c=row[1]\n",
    "        row[3]=v\n",
    "    else:\n",
    "        if row[1]==c and e!=0:\n",
    "            v+=1\n",
    "            row[3]=v\n",
    "    mycsv.writerow(row)"
   ]
  },
  {
   "cell_type": "code",
   "execution_count": null,
   "id": "6fe90e50",
   "metadata": {},
   "outputs": [],
   "source": []
  },
  {
   "cell_type": "code",
   "execution_count": null,
   "id": "263a41c9",
   "metadata": {},
   "outputs": [],
   "source": []
  }
 ],
 "metadata": {
  "kernelspec": {
   "display_name": "Python 3 (ipykernel)",
   "language": "python",
   "name": "python3"
  },
  "language_info": {
   "codemirror_mode": {
    "name": "ipython",
    "version": 3
   },
   "file_extension": ".py",
   "mimetype": "text/x-python",
   "name": "python",
   "nbconvert_exporter": "python",
   "pygments_lexer": "ipython3",
   "version": "3.9.7"
  }
 },
 "nbformat": 4,
 "nbformat_minor": 5
}
